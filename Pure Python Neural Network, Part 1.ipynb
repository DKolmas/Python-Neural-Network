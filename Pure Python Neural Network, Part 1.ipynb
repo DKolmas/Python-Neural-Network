{
 "cells": [
  {
   "cell_type": "markdown",
   "metadata": {},
   "source": [
    "This note is the first one out of a few next notes desribing implementation and analysis of pure python neural network. The purpose to do this exercise was to grasp a hands on experience with implementation detials as I am moving now to Tensor Flow (TF). TF is a great tool but it is good to understand basic concepts first. \n",
    "\n",
    "At the beggining I planned to prepare just one note but over time it became clear it would be way to much content to make it digestible even for very stuborn and motivated person.\n",
    "\n",
    "In this note I will describe:\n",
    " * motivation for choosing a specific architecture of nerual network\n",
    " * architecture of neural network implemented in python\n",
    " * data samples used for learning and testing\n",
    " * two different approaches used in implementation of backrpoagation algorithm\n",
    " * three methods of weights initiaizations used in analysis\n",
    " \n",
    "In the next note I will focus on performance analysis of trained network. I will provide many figures and complement it with results discussion. Finnaly I will formulate my conclussions."
   ]
  },
  {
   "cell_type": "code",
   "execution_count": null,
   "metadata": {
    "collapsed": true
   },
   "outputs": [],
   "source": []
  }
 ],
 "metadata": {
  "kernelspec": {
   "display_name": "Python 3",
   "language": "python",
   "name": "python3"
  },
  "language_info": {
   "codemirror_mode": {
    "name": "ipython",
    "version": 3
   },
   "file_extension": ".py",
   "mimetype": "text/x-python",
   "name": "python",
   "nbconvert_exporter": "python",
   "pygments_lexer": "ipython3",
   "version": "3.6.2"
  }
 },
 "nbformat": 4,
 "nbformat_minor": 2
}
